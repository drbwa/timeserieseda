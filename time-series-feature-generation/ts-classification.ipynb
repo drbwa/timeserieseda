{
 "metadata": {
  "language_info": {
   "codemirror_mode": {
    "name": "ipython",
    "version": 3
   },
   "file_extension": ".py",
   "mimetype": "text/x-python",
   "name": "python",
   "nbconvert_exporter": "python",
   "pygments_lexer": "ipython3",
   "version": "3.7.6-final"
  },
  "orig_nbformat": 2,
  "kernelspec": {
   "name": "python37664bitpy37scipycondaea1ea709319942a2b87cdaaf37e04589",
   "display_name": "Python 3.7.6 64-bit ('py37scipy': conda)",
   "language": "python"
  }
 },
 "nbformat": 4,
 "nbformat_minor": 2,
 "cells": [
  {
   "source": [
    "# Time Series Classification Hello World\n",
    "\n",
    "My first attempt to perform feature engineering on some time time series and to build and evaluate a classifier based on these features. Want to compute features manually to understand how this works before using a package like [tsfresh](https://tsfresh.readthedocs.io/en/latest/#). \n",
    "\n",
    "Have used a number of resources:"
   ],
   "cell_type": "markdown",
   "metadata": {}
  },
  {
   "cell_type": "code",
   "execution_count": 4,
   "metadata": {},
   "outputs": [],
   "source": [
    "import xgboost\n",
    "import pandas as pd"
   ]
  },
  {
   "cell_type": "code",
   "execution_count": 6,
   "metadata": {},
   "outputs": [
    {
     "output_type": "stream",
     "name": "stdout",
     "text": [
      "xgboost: 1.2.0\npandas: 0.25.3\n"
     ]
    }
   ],
   "source": [
    "print(f\"xgboost: {xgboost.__version__}\")\n",
    "print(f\"pandas: {pd.__version__}\")"
   ]
  },
  {
   "source": [
    "Let's start with a univariate time series data set of the daily minimum temperatures measured in degrees Celsius from 1981-01-01 until 1990-12-31 ($3,650$ measurements in total). We want to learn to predict the minimum temperature on a day."
   ],
   "cell_type": "markdown",
   "metadata": {}
  },
  {
   "cell_type": "code",
   "execution_count": 8,
   "metadata": {},
   "outputs": [],
   "source": [
    "data = pd.read_csv(\"data/daily-min-temperatures.csv\", header=0, index_col=0, parse_dates=True)"
   ]
  },
  {
   "cell_type": "code",
   "execution_count": 9,
   "metadata": {},
   "outputs": [
    {
     "output_type": "execute_result",
     "data": {
      "text/plain": [
       "            Temp\n",
       "Date            \n",
       "1981-01-01  20.7\n",
       "1981-01-02  17.9\n",
       "1981-01-03  18.8\n",
       "1981-01-04  14.6\n",
       "1981-01-05  15.8"
      ],
      "text/html": "<div>\n<style scoped>\n    .dataframe tbody tr th:only-of-type {\n        vertical-align: middle;\n    }\n\n    .dataframe tbody tr th {\n        vertical-align: top;\n    }\n\n    .dataframe thead th {\n        text-align: right;\n    }\n</style>\n<table border=\"1\" class=\"dataframe\">\n  <thead>\n    <tr style=\"text-align: right;\">\n      <th></th>\n      <th>Temp</th>\n    </tr>\n    <tr>\n      <th>Date</th>\n      <th></th>\n    </tr>\n  </thead>\n  <tbody>\n    <tr>\n      <th>1981-01-01</th>\n      <td>20.7</td>\n    </tr>\n    <tr>\n      <th>1981-01-02</th>\n      <td>17.9</td>\n    </tr>\n    <tr>\n      <th>1981-01-03</th>\n      <td>18.8</td>\n    </tr>\n    <tr>\n      <th>1981-01-04</th>\n      <td>14.6</td>\n    </tr>\n    <tr>\n      <th>1981-01-05</th>\n      <td>15.8</td>\n    </tr>\n  </tbody>\n</table>\n</div>"
     },
     "metadata": {},
     "execution_count": 9
    }
   ],
   "source": [
    "data.head()"
   ]
  },
  {
   "cell_type": "code",
   "execution_count": 17,
   "metadata": {},
   "outputs": [
    {
     "output_type": "stream",
     "name": "stdout",
     "text": [
      "Number of measurements: 3650\nEarliest date: 1981-01-01 00:00:00\nLatest date: 1990-12-31 00:00:00\n"
     ]
    }
   ],
   "source": [
    "print(f\"Number of measurements: {len(data)}\")\n",
    "print(f\"Earliest date: {data.index[0]}\")\n",
    "print(f\"Latest date: {data.index[-1]}\")"
   ]
  },
  {
   "source": [
    "One way to create features would be to decompose the dates into date-time based features."
   ],
   "cell_type": "markdown",
   "metadata": {}
  },
  {
   "cell_type": "code",
   "execution_count": 27,
   "metadata": {},
   "outputs": [],
   "source": [
    "df_features_1 = pd.DataFrame()\n",
    "df_features_1[\"Month\"] = [data.index[i].month for i in range(len(data.index))]\n",
    "df_features_1[\"Day\"] = [data.index[i].day for i in range(len(data.index))]\n",
    "df_features_1[\"Temp\"] = [data.values[i][0] for i in range(len(data))]"
   ]
  },
  {
   "cell_type": "code",
   "execution_count": 28,
   "metadata": {},
   "outputs": [
    {
     "output_type": "execute_result",
     "data": {
      "text/plain": [
       "      Month  Day  Temp\n",
       "3066      5   27  10.2\n",
       "1687      8   16   8.4\n",
       "670      11    2   6.9\n",
       "613       9    6   8.2\n",
       "1391     10   23  18.2"
      ],
      "text/html": "<div>\n<style scoped>\n    .dataframe tbody tr th:only-of-type {\n        vertical-align: middle;\n    }\n\n    .dataframe tbody tr th {\n        vertical-align: top;\n    }\n\n    .dataframe thead th {\n        text-align: right;\n    }\n</style>\n<table border=\"1\" class=\"dataframe\">\n  <thead>\n    <tr style=\"text-align: right;\">\n      <th></th>\n      <th>Month</th>\n      <th>Day</th>\n      <th>Temp</th>\n    </tr>\n  </thead>\n  <tbody>\n    <tr>\n      <th>3066</th>\n      <td>5</td>\n      <td>27</td>\n      <td>10.2</td>\n    </tr>\n    <tr>\n      <th>1687</th>\n      <td>8</td>\n      <td>16</td>\n      <td>8.4</td>\n    </tr>\n    <tr>\n      <th>670</th>\n      <td>11</td>\n      <td>2</td>\n      <td>6.9</td>\n    </tr>\n    <tr>\n      <th>613</th>\n      <td>9</td>\n      <td>6</td>\n      <td>8.2</td>\n    </tr>\n    <tr>\n      <th>1391</th>\n      <td>10</td>\n      <td>23</td>\n      <td>18.2</td>\n    </tr>\n  </tbody>\n</table>\n</div>"
     },
     "metadata": {},
     "execution_count": 28
    }
   ],
   "source": [
    "df_features_1.sample(5)"
   ]
  },
  {
   "source": [
    "To predict the temperate based on the month and day is probably not an effective approach. Ohter date-time based features might perform better for the problem at hand. For example, time of day or season.\n",
    "\n",
    "Another way to create features is to use lag (predict the value a $t + 1$ based on the value(s) at previous points in time)."
   ],
   "cell_type": "markdown",
   "metadata": {}
  },
  {
   "cell_type": "code",
   "execution_count": 45,
   "metadata": {},
   "outputs": [
    {
     "output_type": "execute_result",
     "data": {
      "text/plain": [
       "             t-1   t+1\n",
       "Date                  \n",
       "1981-01-01   NaN  20.7\n",
       "1981-01-02  20.7  17.9\n",
       "1981-01-03  17.9  18.8\n",
       "1981-01-04  18.8  14.6\n",
       "1981-01-05  14.6  15.8"
      ],
      "text/html": "<div>\n<style scoped>\n    .dataframe tbody tr th:only-of-type {\n        vertical-align: middle;\n    }\n\n    .dataframe tbody tr th {\n        vertical-align: top;\n    }\n\n    .dataframe thead th {\n        text-align: right;\n    }\n</style>\n<table border=\"1\" class=\"dataframe\">\n  <thead>\n    <tr style=\"text-align: right;\">\n      <th></th>\n      <th>t-1</th>\n      <th>t+1</th>\n    </tr>\n    <tr>\n      <th>Date</th>\n      <th></th>\n      <th></th>\n    </tr>\n  </thead>\n  <tbody>\n    <tr>\n      <th>1981-01-01</th>\n      <td>NaN</td>\n      <td>20.7</td>\n    </tr>\n    <tr>\n      <th>1981-01-02</th>\n      <td>20.7</td>\n      <td>17.9</td>\n    </tr>\n    <tr>\n      <th>1981-01-03</th>\n      <td>17.9</td>\n      <td>18.8</td>\n    </tr>\n    <tr>\n      <th>1981-01-04</th>\n      <td>18.8</td>\n      <td>14.6</td>\n    </tr>\n    <tr>\n      <th>1981-01-05</th>\n      <td>14.6</td>\n      <td>15.8</td>\n    </tr>\n  </tbody>\n</table>\n</div>"
     },
     "metadata": {},
     "execution_count": 45
    }
   ],
   "source": [
    "data_shifted_1 = pd.concat([data[\"Temp\"].shift(1), data[\"Temp\"]], axis=1)\n",
    "data_shifted_1.columns = [\"t-1\", \"t+1\"]\n",
    "data_shifted_1.head()"
   ]
  },
  {
   "cell_type": "code",
   "execution_count": null,
   "metadata": {},
   "outputs": [],
   "source": []
  }
 ]
}